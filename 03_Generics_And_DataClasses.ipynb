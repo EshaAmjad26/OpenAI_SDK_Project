{
  "nbformat": 4,
  "nbformat_minor": 0,
  "metadata": {
    "colab": {
      "provenance": [],
      "collapsed_sections": [
        "Eh7m3VCC3Eis"
      ],
      "include_colab_link": true
    },
    "kernelspec": {
      "name": "python3",
      "display_name": "Python 3"
    },
    "language_info": {
      "name": "python"
    }
  },
  "cells": [
    {
      "cell_type": "markdown",
      "metadata": {
        "id": "view-in-github",
        "colab_type": "text"
      },
      "source": [
        "<a href=\"https://colab.research.google.com/github/EshaAmjad26/OpenAI_SDK_Project/blob/main/03_Generics_And_DataClasses.ipynb\" target=\"_parent\"><img src=\"https://colab.research.google.com/assets/colab-badge.svg\" alt=\"Open In Colab\"/></a>"
      ]
    },
    {
      "cell_type": "markdown",
      "source": [
        "# Generics in Python\n",
        "\n",
        "Generics allow us to define functions and classes that can operate on different data types while maintaining type safety.\n",
        "\n",
        "> **Note** Enable type checking in Colab in the menu `Tools` > `Setting` > `Editor` > (scroll to the bottom) Code diagnostics and choose `Syntax and type checking`. It then underlines type errors in red and hovering them displays the message:\n"
      ],
      "metadata": {
        "id": "HKUbmpcH13ae"
      }
    },
    {
      "cell_type": "markdown",
      "source": [
        "# 1. Introduction to Generics\n",
        "---------------------------"
      ],
      "metadata": {
        "id": "SFjTVZoQ1_Ph"
      }
    },
    {
      "cell_type": "markdown",
      "source": [
        "Issues\n",
        "-> Any: I don't know the data type.\n",
        "-> We have by"
      ],
      "metadata": {
        "id": "_uPrO3ai0OSW"
      }
    },
    {
      "cell_type": "code",
      "source": [
        "# Example without Generics\n",
        "from typing import Any\n",
        "\n",
        "fruits = [\"mango\", \"apple\"]\n",
        "\n",
        "def first_element(items: list[Any]) -> Any:\n",
        "    \"\"\"\n",
        "    Takes a list...\n",
        "\n",
        "    Args:\n",
        "      items: A list of items.\n",
        "\n",
        "    Returns:\n",
        "      The first item in the list.\n",
        "    \"\"\"\n",
        "    return items[0]\n",
        "\n",
        "# See the issues from above: https://chatgpt.com/share/67dc63b1-1458-8002-875f-0967a145a5b2\n",
        "\n",
        "# Infer : def first_element(items: list[T]) -> T:\n",
        "# -> 1. I will pass a list where all items will have same type\n",
        "# -> 2. <T> is fill in the blank. <T> will be whatever type we define\n",
        "# -> 3. Whatever type of <T> is will be returned."
      ],
      "metadata": {
        "id": "wKgoHBme2C6s"
      },
      "execution_count": null,
      "outputs": []
    },
    {
      "cell_type": "code",
      "source": [
        "\n",
        "nums = [1, 2, 3]\n",
        "strings = ['a', 'b', 'c']\n",
        "\n",
        "print(first_element(nums))     # 1\n",
        "print(first_element(strings))  # 'a'\n",
        "\n",
        "# Issue: No type checking. We can't restrict or inform about expected data types explicitly."
      ],
      "metadata": {
        "colab": {
          "base_uri": "https://localhost:8080/"
        },
        "id": "LdhjT658seiA",
        "outputId": "1e35057a-b465-4576-a6e1-d4b7b11233d1"
      },
      "execution_count": null,
      "outputs": [
        {
          "output_type": "stream",
          "name": "stdout",
          "text": [
            "1\n",
            "a\n"
          ]
        }
      ]
    },
    {
      "cell_type": "markdown",
      "source": [
        "# 2. Using Generics\n",
        "------------------"
      ],
      "metadata": {
        "id": "LFg202nJ2Ld_"
      }
    },
    {
      "cell_type": "markdown",
      "source": [
        "Generics let you create functions, methods, or classes that can work with multiple types while preserving type relationships. Generics:\n",
        "\n",
        "- Better communicate the intent of your code.\n",
        "- Allow static type checking to verify correctness.\n",
        "\n",
        "In Python, this is done using TypeVar.\n",
        "\n",
        "🔹 Using TypeVar\n",
        "First, import TypeVar and define a generic type variable T:\n",
        "\n",
        "```python\n",
        "from typing import TypeVar\n",
        "\n",
        "T = TypeVar(\"T\")  # T represents a generic type\n",
        "```\n",
        "\n",
        "- `T` is a placeholder that can be **replaced with any type** when the function is called.\n",
        "- The **actual type is inferred at runtime**."
      ],
      "metadata": {
        "id": "rI8-G8z3lRg9"
      }
    },
    {
      "cell_type": "code",
      "source": [
        "# Type variable for generic typing\n",
        "from typing import TypeVar\n",
        "\n",
        "# Analogy -> Think of T as fill in the Blank\n",
        "# -> using T is community driven practice.\n",
        "T = TypeVar('T')\n",
        "\n",
        "def generic_first_element(items: list[T]) -> T:\n",
        "    return items[0]\n",
        "\n",
        "num_result = generic_first_element(nums)        # type inferred as int\n",
        "string_result = generic_first_element(strings)  # type inferred as str\n",
        "\n",
        "print(num_result)    # 1\n",
        "print(string_result) # 'a'"
      ],
      "metadata": {
        "colab": {
          "base_uri": "https://localhost:8080/"
        },
        "id": "XN8TRS1l2FJi",
        "outputId": "b704301a-9968-4217-c576-0f25c07cd6f5"
      },
      "execution_count": null,
      "outputs": [
        {
          "output_type": "stream",
          "name": "stdout",
          "text": [
            "1\n",
            "a\n"
          ]
        }
      ]
    },
    {
      "cell_type": "markdown",
      "source": [
        "#### Why Use Generics When Python Lets You Pass Any List?\n"
      ],
      "metadata": {
        "id": "Eh7m3VCC3Eis"
      }
    },
    {
      "cell_type": "markdown",
      "source": [
        "Explanation: By using Generics, Python can infer and enforce types at compile-time, enhancing clarity and safety.\n"
      ],
      "metadata": {
        "id": "SABi7odk2UKi"
      }
    },
    {
      "cell_type": "markdown",
      "source": [
        "\n",
        "1. **Static Type Checking**  \n",
        "   - **Without generics**, you can pass any list, but static type checkers (like [mypy](http://mypy-lang.org/)) cannot verify that your function is used correctly. For instance, if your function is meant to handle only strings but you accidentally pass a list of integers, Python won't complain until (or unless) something goes wrong at runtime.  \n",
        "   - **With generics**, you declare something like `List[str]` or `List[int]`, and a type checker will immediately flag if you pass the wrong type. This early feedback catches type errors before they become runtime bugs.\n",
        "\n",
        "2. **Code Clarity and Intent**  \n",
        "   - Generics communicate clearly to other developers (and future you) that `first_element(items: List[T]) -> T` is intended to work with a list of a single, consistent type `T`.  \n",
        "   - When you see `List[str]`, there is no ambiguity about what the list is supposed to contain. This helps prevent accidental mixing of data types.\n",
        "\n",
        "3. **Improved Tooling Support**  \n",
        "   - Modern IDEs can use your generic annotations to provide better **autocompletion, refactoring,** and **linting** suggestions.  \n",
        "   - For example, if a function returns `T`, your IDE will automatically know the returned type is `str` for a `List[str]`, saving time when using the result elsewhere in your code.\n",
        "\n",
        "4. **Future-Proofing**  \n",
        "   - As projects grow more complex and data structures become nested, generics help keep track of types. This is especially crucial in large-scale applications like **production AI systems**, where data consistency and correctness are paramount.\n",
        "\n",
        "5. **Avoiding Silent Logic Errors**  \n",
        "   - Without generics, a developer could pass any list, perhaps by mistake. You might not catch it until it causes a subtle bug (like a `TypeError` in production).  \n",
        "   - By declaring generic types, the mismatch is caught early, which often saves hours of debugging.\n",
        "\n",
        "---\n",
        "\n",
        "In short, Python’s flexibility of “pass any list” is convenient for small scripts or quick prototypes. However, in larger, more complex, or production-grade systems—especially with AI or data-heavy workflows—generics, combined with type checkers, dramatically improve reliability, clarity, and maintainability."
      ],
      "metadata": {
        "id": "k5zkKYrRoKsD"
      }
    },
    {
      "cell_type": "code",
      "source": [],
      "metadata": {
        "id": "InmgNMusoKAP"
      },
      "execution_count": null,
      "outputs": []
    },
    {
      "cell_type": "markdown",
      "source": [
        "#### Dictionary example using two generic types (K and V):\n"
      ],
      "metadata": {
        "id": "4lZK6QD4noGF"
      }
    },
    {
      "cell_type": "code",
      "source": [
        "\n",
        "from typing import TypeVar\n",
        "\n",
        "K = TypeVar('K') # Keys\n",
        "V = TypeVar('V') # Values\n",
        "\n",
        "def get_item(container: dict[K, V], key: K) -> V:\n",
        "    return container[key]"
      ],
      "metadata": {
        "id": "r4PmZZrbnqeU"
      },
      "execution_count": null,
      "outputs": []
    },
    {
      "cell_type": "markdown",
      "source": [
        "Here, it’s clear that:\n",
        "\n",
        "- The key must match the dictionary key type (K).\n",
        "- The returned value is always the type of dictionary’s values (V).\n",
        "\n",
        "Using this:"
      ],
      "metadata": {
        "id": "poaxDWA4nw4-"
      }
    },
    {
      "cell_type": "code",
      "source": [
        "d = {'a': 1, 'b': 2}\n",
        "\n",
        "value = get_item(d, 'a')  # returns int\n",
        "print(value)"
      ],
      "metadata": {
        "colab": {
          "base_uri": "https://localhost:8080/"
        },
        "id": "Qn7CuEqmnwTN",
        "outputId": "f2cec699-3280-421b-e608-92e2ad2ff1cc"
      },
      "execution_count": null,
      "outputs": [
        {
          "output_type": "stream",
          "name": "stdout",
          "text": [
            "1\n"
          ]
        }
      ]
    },
    {
      "cell_type": "markdown",
      "source": [
        "# 3. Generic Classes\n",
        "-------------------"
      ],
      "metadata": {
        "id": "VUZEK-qz2Vho"
      }
    },
    {
      "cell_type": "code",
      "source": [
        "from typing import Generic, TypeVar, ClassVar\n",
        "from dataclasses import dataclass, field\n",
        "\n",
        "# Type variable for generic typing\n",
        "T = TypeVar('T')\n",
        "\n",
        "@dataclass\n",
        "class Stack(Generic[T]):\n",
        "    # Instance Level -> obj = Stack\n",
        "    items: list[T] = field(default_factory=list)\n",
        "    # Class Level ->\n",
        "    limit: ClassVar[int] = 10\n",
        "\n",
        "    def push(self, item: T) -> None:\n",
        "        self.items.append(item)\n",
        "\n",
        "    def pop(self) -> T:\n",
        "        return self.items.pop()\n",
        "\n",
        "# Infer\n",
        "# 1. On seeing T i assumed there will be generic types.\n",
        "# 2. T is an unknown/ fill in the blank type. We will get type in runtime."
      ],
      "metadata": {
        "id": "6t8pQJjh2TIc"
      },
      "execution_count": null,
      "outputs": []
    },
    {
      "cell_type": "code",
      "source": [
        "stack_of_ints = Stack[int]()\n",
        "print(stack_of_ints)"
      ],
      "metadata": {
        "colab": {
          "base_uri": "https://localhost:8080/"
        },
        "id": "7zAk1C8m7eiJ",
        "outputId": "55be4eb2-5253-497b-e1b7-d112ea2fdea4"
      },
      "execution_count": null,
      "outputs": [
        {
          "output_type": "stream",
          "name": "stdout",
          "text": [
            "Stack(items=[])\n"
          ]
        }
      ]
    },
    {
      "cell_type": "code",
      "source": [
        "\n",
        "print(stack_of_ints)\n",
        "print(stack_of_ints.limit)"
      ],
      "metadata": {
        "colab": {
          "base_uri": "https://localhost:8080/"
        },
        "id": "49YE9A2f7Sbh",
        "outputId": "723a03b3-bbf9-4afb-deaa-c75afa6dd42e"
      },
      "execution_count": null,
      "outputs": [
        {
          "output_type": "stream",
          "name": "stdout",
          "text": [
            "Stack(items=[])\n",
            "10\n"
          ]
        }
      ]
    },
    {
      "cell_type": "code",
      "source": [
        "stack_of_ints.push(10)\n",
        "stack_of_ints.push(20)\n",
        "stack_of_ints"
      ],
      "metadata": {
        "colab": {
          "base_uri": "https://localhost:8080/"
        },
        "id": "x_O50jOC7pwv",
        "outputId": "c7be7577-d6cb-455c-e40c-18562776f542"
      },
      "execution_count": null,
      "outputs": [
        {
          "output_type": "execute_result",
          "data": {
            "text/plain": [
              "Stack(items=[10, 20])"
            ]
          },
          "metadata": {},
          "execution_count": 50
        }
      ]
    },
    {
      "cell_type": "code",
      "source": [
        "print(stack_of_ints.pop())  # 20"
      ],
      "metadata": {
        "colab": {
          "base_uri": "https://localhost:8080/"
        },
        "id": "lVU7xOn57zm-",
        "outputId": "7f27b8e0-8b0d-4817-e67f-f5e8c8f7f5a8"
      },
      "execution_count": null,
      "outputs": [
        {
          "output_type": "stream",
          "name": "stdout",
          "text": [
            "20\n"
          ]
        }
      ]
    },
    {
      "cell_type": "code",
      "source": [
        "stack_of_strings = Stack[str]()\n",
        "print(stack_of_strings)\n",
        "\n",
        "stack_of_strings.push(\"hello\")\n",
        "stack_of_strings.push(\"world\")\n",
        "\n",
        "print(stack_of_strings.pop())  # 'world'"
      ],
      "metadata": {
        "colab": {
          "base_uri": "https://localhost:8080/"
        },
        "id": "bLagQNYs7QO3",
        "outputId": "954f1b6d-288c-4b82-c9b7-11b593973ac9"
      },
      "execution_count": null,
      "outputs": [
        {
          "output_type": "stream",
          "name": "stdout",
          "text": [
            "Stack(items=[])\n",
            "world\n"
          ]
        }
      ]
    },
    {
      "cell_type": "code",
      "source": [
        "print(Stack.limit)\n",
        "print(stack_of_ints.limit)"
      ],
      "metadata": {
        "colab": {
          "base_uri": "https://localhost:8080/"
        },
        "id": "f2DneW-l4WYy",
        "outputId": "a48c8036-fec9-4d9f-ebfc-01810b115e07"
      },
      "execution_count": null,
      "outputs": [
        {
          "output_type": "stream",
          "name": "stdout",
          "text": [
            "10\n",
            "10\n"
          ]
        }
      ]
    },
    {
      "cell_type": "markdown",
      "source": [
        "Generic classes like Stack[T] allow you to define data structures that maintain consistent types, improving type safety.\n"
      ],
      "metadata": {
        "id": "Oaa1gvH92aL2"
      }
    },
    {
      "cell_type": "markdown",
      "source": [
        "# 4. Advanced Usage of Generics\n",
        "-----------------------------\n",
        "\n",
        "Using Generics with multiple TypeVars"
      ],
      "metadata": {
        "id": "wQsxe5bU2mYT"
      }
    },
    {
      "cell_type": "code",
      "execution_count": null,
      "metadata": {
        "id": "nFZPu1-D1E2p",
        "colab": {
          "base_uri": "https://localhost:8080/"
        },
        "outputId": "bef3fcb7-71a4-49b0-f9d2-b23bcfd906c9"
      },
      "outputs": [
        {
          "output_type": "stream",
          "name": "stdout",
          "text": [
            "age\n",
            "30\n"
          ]
        }
      ],
      "source": [
        "from dataclasses import dataclass\n",
        "from typing import TypeVar\n",
        "\n",
        "K = TypeVar('K')\n",
        "V = TypeVar('V')\n",
        "\n",
        "# Incorrect Usage (without Generic inheritance)\n",
        "@dataclass\n",
        "class KeyValuePair:\n",
        "    key: K\n",
        "    value: V\n",
        "# This snippet incorrectly attempts generics without inheriting from Generic, causing static type checkers to complain.\n",
        "\n",
        "pair = KeyValuePair(\"age\", 30)\n",
        "\n",
        "print(pair.key)    # 'age'\n",
        "print(pair.value)  # 30"
      ]
    },
    {
      "cell_type": "code",
      "source": [
        "# Correct Usage (with Generic inheritance)\n",
        "@dataclass\n",
        "class CorrectKeyValuePair(Generic[K, V]):\n",
        "    key: K\n",
        "    value: V\n",
        "\n",
        "pair = CorrectKeyValuePair(\"age\", 30)\n",
        "\n",
        "print(pair.key)    # 'age'\n",
        "print(pair.value)  # 30\n"
      ],
      "metadata": {
        "colab": {
          "base_uri": "https://localhost:8080/"
        },
        "id": "FIhBWkj12tIZ",
        "outputId": "ebb4ee80-4459-4224-f8e2-ca838cde94fe"
      },
      "execution_count": null,
      "outputs": [
        {
          "output_type": "stream",
          "name": "stdout",
          "text": [
            "age\n",
            "30\n"
          ]
        }
      ]
    },
    {
      "cell_type": "markdown",
      "source": [
        "Explanation of Differences:\n",
        "- Without Generic inheritance: TypeVars K, V are unbound, causing static checkers to fail.\n",
        "- With Generic inheritance: Explicitly informs type checkers, ensuring accurate type inference and improved static checking."
      ],
      "metadata": {
        "id": "jmcmQ78gk0ma"
      }
    },
    {
      "cell_type": "markdown",
      "source": [
        "# 5. Practical Example with Generics"
      ],
      "metadata": {
        "id": "v4h9XHWW5oRn"
      }
    },
    {
      "cell_type": "markdown",
      "source": [
        "## a. Generic function that merges two dictionaries"
      ],
      "metadata": {
        "id": "9hswlotY5sCN"
      }
    },
    {
      "cell_type": "code",
      "source": [
        "def merge_dicts(dict1: dict[K, V], dict2: dict[K, V]) -> dict[K, V]:\n",
        "    result = dict1.copy()\n",
        "    result.update(dict2)\n",
        "    return result\n",
        "\n",
        "merged = merge_dicts({'a': 1}, {'b': 2})\n",
        "print(merged)  # {'a': 1, 'b': 2}"
      ],
      "metadata": {
        "colab": {
          "base_uri": "https://localhost:8080/"
        },
        "id": "jwIO2PgZ2wBX",
        "outputId": "95736e37-98f6-4cbc-8ec7-ac2a5398e469"
      },
      "execution_count": null,
      "outputs": [
        {
          "output_type": "stream",
          "name": "stdout",
          "text": [
            "{'a': 1, 'b': 2}\n"
          ]
        }
      ]
    },
    {
      "cell_type": "markdown",
      "source": [
        "## b. Generics with DataClasses\n",
        "----------------------------"
      ],
      "metadata": {
        "id": "CGaYnyu95ucG"
      }
    },
    {
      "cell_type": "code",
      "source": [
        "# Dataclasses combined with Generics enhance clarity, immutability, and type safety for complex data structures.\n",
        "\n",
        "@dataclass\n",
        "class GenericDataContainer(Generic[T]):\n",
        "    data: T\n",
        "\n",
        "int_container = GenericDataContainer[int](data=123)\n",
        "str_container = GenericDataContainer[str](data=\"Generics in Python\")\n",
        "\n",
        "print(int_container.data)  # 123\n",
        "print(str_container.data)  # 'Generics in Python'"
      ],
      "metadata": {
        "colab": {
          "base_uri": "https://localhost:8080/"
        },
        "id": "dGoivMcW5yqv",
        "outputId": "714c7455-7858-431c-b584-7cba30188db5"
      },
      "execution_count": null,
      "outputs": [
        {
          "output_type": "stream",
          "name": "stdout",
          "text": [
            "123\n",
            "Generics in Python\n"
          ]
        }
      ]
    },
    {
      "cell_type": "code",
      "source": [
        "\n",
        "# Production Grade Example for AI Agents\n",
        "@dataclass\n",
        "class AgentState(Generic[K, V]):\n",
        "    context: dict[K, V]\n",
        "    status: str\n",
        "\n",
        "agent_state = AgentState[str, str](context={\"task\": \"data collection\", \"priority\": \"high\"}, status=\"active\")\n",
        "\n",
        "print(agent_state.context)  # {'task': 'data collection', 'priority': 'high'}\n",
        "print(agent_state.status)   # 'active'"
      ],
      "metadata": {
        "colab": {
          "base_uri": "https://localhost:8080/"
        },
        "id": "2k4A_XDN59fY",
        "outputId": "faeb4a5c-283c-4e22-9dc5-0262d66bb31b"
      },
      "execution_count": null,
      "outputs": [
        {
          "output_type": "stream",
          "name": "stdout",
          "text": [
            "{'task': 'data collection', 'priority': 'high'}\n",
            "active\n"
          ]
        }
      ]
    },
    {
      "cell_type": "markdown",
      "source": [
        "# Summary"
      ],
      "metadata": {
        "id": "72a_-h1-2zbi"
      }
    },
    {
      "cell_type": "markdown",
      "source": [
        "Always explicitly inherit from Generic when using TypeVar in Python classes to clearly communicate intentions to static type checkers and to avoid subtle type-related bugs.\n",
        "\n",
        "Generics significantly enhance type safety, readability, and maintainability, making them critical for robust, scalable, and production-grade AI agent systems.\n"
      ],
      "metadata": {
        "id": "7tCTmRLm2xWA"
      }
    }
  ]
}