{
  "nbformat": 4,
  "nbformat_minor": 0,
  "metadata": {
    "colab": {
      "provenance": [],
      "authorship_tag": "ABX9TyOWPPj7kPnlNGv9LFlZgkJ3",
      "include_colab_link": true
    },
    "kernelspec": {
      "name": "python3",
      "display_name": "Python 3"
    },
    "language_info": {
      "name": "python"
    }
  },
  "cells": [
    {
      "cell_type": "markdown",
      "metadata": {
        "id": "view-in-github",
        "colab_type": "text"
      },
      "source": [
        "<a href=\"https://colab.research.google.com/github/EshaAmjad26/OpenAI_SDK_Project/blob/main/OpenRouter_AI_Agents_SDK.ipynb\" target=\"_parent\"><img src=\"https://colab.research.google.com/assets/colab-badge.svg\" alt=\"Open In Colab\"/></a>"
      ]
    },
    {
      "cell_type": "markdown",
      "source": [
        "# OpenRouter_AI_Agents_SDK\n"
      ],
      "metadata": {
        "id": "X_ASJTrwQbP1"
      }
    },
    {
      "cell_type": "code",
      "source": [
        "!pip install -Uq openai_agents"
      ],
      "metadata": {
        "id": "Ga0aEwBEQXMk",
        "colab": {
          "base_uri": "https://localhost:8080/"
        },
        "outputId": "69f54871-1577-4f7c-bc29-04892500ecd2"
      },
      "execution_count": null,
      "outputs": [
        {
          "output_type": "stream",
          "name": "stdout",
          "text": [
            "\u001b[?25l   \u001b[90m━━━━━━━━━━━━━━━━━━━━━━━━━━━━━━━━━━━━━━━━\u001b[0m \u001b[32m0.0/116.2 kB\u001b[0m \u001b[31m?\u001b[0m eta \u001b[36m-:--:--\u001b[0m\r\u001b[2K   \u001b[90m━━━━━━━━━━━━━━━━━━━━━━━━━━━━━━━━━━━━━━━━\u001b[0m \u001b[32m116.2/116.2 kB\u001b[0m \u001b[31m4.6 MB/s\u001b[0m eta \u001b[36m0:00:00\u001b[0m\n",
            "\u001b[2K   \u001b[90m━━━━━━━━━━━━━━━━━━━━━━━━━━━━━━━━━━━━━━━━\u001b[0m \u001b[32m129.2/129.2 kB\u001b[0m \u001b[31m3.7 MB/s\u001b[0m eta \u001b[36m0:00:00\u001b[0m\n",
            "\u001b[2K   \u001b[90m━━━━━━━━━━━━━━━━━━━━━━━━━━━━━━━━━━━━━━━━\u001b[0m \u001b[32m76.1/76.1 kB\u001b[0m \u001b[31m3.0 MB/s\u001b[0m eta \u001b[36m0:00:00\u001b[0m\n",
            "\u001b[2K   \u001b[90m━━━━━━━━━━━━━━━━━━━━━━━━━━━━━━━━━━━━━━━━\u001b[0m \u001b[32m44.4/44.4 kB\u001b[0m \u001b[31m1.9 MB/s\u001b[0m eta \u001b[36m0:00:00\u001b[0m\n",
            "\u001b[2K   \u001b[90m━━━━━━━━━━━━━━━━━━━━━━━━━━━━━━━━━━━━━━━━\u001b[0m \u001b[32m72.0/72.0 kB\u001b[0m \u001b[31m1.9 MB/s\u001b[0m eta \u001b[36m0:00:00\u001b[0m\n",
            "\u001b[2K   \u001b[90m━━━━━━━━━━━━━━━━━━━━━━━━━━━━━━━━━━━━━━━━\u001b[0m \u001b[32m62.5/62.5 kB\u001b[0m \u001b[31m2.4 MB/s\u001b[0m eta \u001b[36m0:00:00\u001b[0m\n",
            "\u001b[?25h"
          ]
        }
      ]
    },
    {
      "cell_type": "code",
      "source": [
        "import nest_asyncio\n",
        "nest_asyncio.apply()"
      ],
      "metadata": {
        "id": "_LEF_z8uQq1Y"
      },
      "execution_count": null,
      "outputs": []
    },
    {
      "cell_type": "code",
      "source": [
        "from google.colab import userdata\n",
        "api_key = userdata.get('GEMINI_API_KEY')"
      ],
      "metadata": {
        "id": "bRQCrmLzSuOJ"
      },
      "execution_count": null,
      "outputs": []
    },
    {
      "cell_type": "markdown",
      "source": [
        "# Using OpenRouter API directly"
      ],
      "metadata": {
        "id": "l2iRnV01ThGO"
      }
    },
    {
      "cell_type": "markdown",
      "source": [
        "https://openrouter.ai/models"
      ],
      "metadata": {
        "id": "wOlDNq5SXkt-"
      }
    },
    {
      "cell_type": "code",
      "source": [
        "router_api_key = userdata.get('Open_Router_APIkey')\n",
        "\n",
        "BASE_URL = \"https://openrouter.ai/api/v1\"\n",
        "MODEL = \"mistralai/mistral-small-24b-instruct-2501:free\""
      ],
      "metadata": {
        "id": "Rm4sTnfiTO74"
      },
      "execution_count": null,
      "outputs": []
    },
    {
      "cell_type": "code",
      "source": [
        "print(BASE_URL)\n"
      ],
      "metadata": {
        "colab": {
          "base_uri": "https://localhost:8080/"
        },
        "id": "zCWaBnXXb9T3",
        "outputId": "81e005a4-5297-46b9-835f-a182417af716"
      },
      "execution_count": null,
      "outputs": [
        {
          "output_type": "stream",
          "name": "stdout",
          "text": [
            "https://openrouter.ai/api/v1\n"
          ]
        }
      ]
    },
    {
      "cell_type": "code",
      "source": [
        "import requests\n",
        "import json\n",
        "\n",
        "response = requests.post(\n",
        "    url=f\"{BASE_URL}/chat/completions\",\n",
        "    headers=  {\"Authorization\": f\"Bearer {router_api_key}\"},\n",
        "    data = json.dumps({\n",
        "       \"model\" : MODEL,\n",
        "       \"messages\": [{\n",
        "           \"role\": \"user\",\n",
        "           \"content\": \"Tell me a joke of 2 lines\"\n",
        "       }]\n",
        "     }\n",
        "\n",
        "    )\n",
        ")\n",
        "\n",
        "print(response.json())"
      ],
      "metadata": {
        "id": "D6mCRBHBTsQU",
        "colab": {
          "base_uri": "https://localhost:8080/"
        },
        "outputId": "47e86856-c75a-40d1-f448-31fa2639b105"
      },
      "execution_count": null,
      "outputs": [
        {
          "output_type": "stream",
          "name": "stdout",
          "text": [
            "{'id': 'gen-1745324627-5O6vtwxYrx99hc6jrRUp', 'provider': 'Chutes', 'model': 'mistralai/mistral-small-24b-instruct-2501', 'object': 'chat.completion', 'created': 1745324627, 'choices': [{'logprobs': None, 'finish_reason': 'stop', 'native_finish_reason': 'stop', 'index': 0, 'message': {'role': 'assistant', 'content': 'What do you call fake spaghetti? An Impasta', 'refusal': None, 'reasoning': None}}], 'usage': {'prompt_tokens': 185, 'completion_tokens': 13, 'total_tokens': 198}}\n"
          ]
        }
      ]
    },
    {
      "cell_type": "code",
      "source": [
        "\n",
        "data = response.json()\n",
        "data['choices'][0]['message']['content']\n"
      ],
      "metadata": {
        "id": "5JWGAsVVaqDP",
        "colab": {
          "base_uri": "https://localhost:8080/",
          "height": 35
        },
        "outputId": "6fc3728a-5c73-48c2-9f13-acd7b633453a"
      },
      "execution_count": null,
      "outputs": [
        {
          "output_type": "execute_result",
          "data": {
            "text/plain": [
              "'What do you call fake spaghetti? An Impasta'"
            ],
            "application/vnd.google.colaboratory.intrinsic+json": {
              "type": "string"
            }
          },
          "metadata": {},
          "execution_count": 8
        }
      ]
    },
    {
      "cell_type": "markdown",
      "source": [
        "#  Using OpenAI Agents SDK"
      ],
      "metadata": {
        "id": "V2zQM0Ryav0z"
      }
    },
    {
      "cell_type": "code",
      "source": [
        "import asyncio\n",
        "from openai import AsyncOpenAI\n",
        "from agents import Agent, Runner, OpenAIChatCompletionsModel, set_tracing_disabled\n",
        "\n",
        "client = AsyncOpenAI(\n",
        "    api_key = router_api_key,\n",
        "    base_url= BASE_URL\n",
        ")\n",
        "\n",
        "set_tracing_disabled(disabled=True)\n",
        "model = OpenAIChatCompletionsModel(\n",
        "    openai_client=client,\n",
        "    model = MODEL)\n",
        "\n",
        "\n",
        "async def main():\n",
        "  agent = Agent(\n",
        "      name = \"Assistant\",\n",
        "      instructions = \"you are a helpfull assistant\",\n",
        "      model= model\n",
        "  )\n",
        "\n",
        "  result = await Runner.run(\n",
        "      agent,\n",
        "      'tell me a joke on friend in two lines',\n",
        "  )\n",
        "\n",
        "  print(result.final_output)\n",
        "\n",
        "asyncio.run(main())\n"
      ],
      "metadata": {
        "colab": {
          "base_uri": "https://localhost:8080/"
        },
        "id": "LVxkrECRQ1qL",
        "outputId": "26d6380e-3b3a-472b-d28d-392d19d9d01c"
      },
      "execution_count": null,
      "outputs": [
        {
          "output_type": "stream",
          "name": "stdout",
          "text": [
            "What do you call a fake noodle? An impasta. Just like that, fake friend is never gonna be pasta\n"
          ]
        }
      ]
    },
    {
      "cell_type": "code",
      "source": [
        "response.json()"
      ],
      "metadata": {
        "id": "c5bLyzH3XFuA",
        "colab": {
          "base_uri": "https://localhost:8080/"
        },
        "outputId": "ce88d5f3-9e5c-466e-a2c0-89e6e1868eea"
      },
      "execution_count": null,
      "outputs": [
        {
          "output_type": "execute_result",
          "data": {
            "text/plain": [
              "{'id': 'gen-1745324627-5O6vtwxYrx99hc6jrRUp',\n",
              " 'provider': 'Chutes',\n",
              " 'model': 'mistralai/mistral-small-24b-instruct-2501',\n",
              " 'object': 'chat.completion',\n",
              " 'created': 1745324627,\n",
              " 'choices': [{'logprobs': None,\n",
              "   'finish_reason': 'stop',\n",
              "   'native_finish_reason': 'stop',\n",
              "   'index': 0,\n",
              "   'message': {'role': 'assistant',\n",
              "    'content': 'What do you call fake spaghetti? An Impasta',\n",
              "    'refusal': None,\n",
              "    'reasoning': None}}],\n",
              " 'usage': {'prompt_tokens': 185, 'completion_tokens': 13, 'total_tokens': 198}}"
            ]
          },
          "metadata": {},
          "execution_count": 10
        }
      ]
    }
  ]
}